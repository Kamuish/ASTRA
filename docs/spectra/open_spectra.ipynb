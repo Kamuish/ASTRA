{
 "cells": [
  {
   "cell_type": "markdown",
   "metadata": {
    "collapsed": false,
    "pycharm": {
     "name": "#%% md\n"
    }
   },
   "source": [
    "# Overview of the data flow in ASTRA\n",
    "\n",
    "**Goals of this notebook:**\n",
    "\n",
    "- Very brief explanation/overview of the basic user interface to load data from disk:\n",
    "    - Load data from .fits files\n",
    "    - Configure the \"instrument\"\n",
    "    - Reject observations based on different conditions (e.g. HEADER values)\n",
    "    - Reject wavelength regions\n",
    "\n",
    "## Loading data from disk\n",
    "\n",
    "In this Section we look at how we can load spectral data from disk, which can be done in a general way through the DataClass object\n",
    "\n",
    "```py \n",
    "from ASTRA.data_objects import DataClass\n",
    "```\n",
    "\n",
    "This object will ingest a list of observations, attribute them IDs (based on the hash of the filename) and divide them into different sub-Instruments. Furthermore, it will only open the spectra in memory when it is needed.\n",
    "\n",
    "### How to setup our instrument\n",
    "\n",
    "We can configure ASTRA to load files two different ways:\n",
    "\n",
    "1) Through a path to a file that contains (in each line) the full path to the desired fits file\n",
    "2) An iterable python object (e.g., a list, tuple) where each entry is the path to a fits file"
   ]
  },
  {
   "cell_type": "code",
   "execution_count": 8,
   "metadata": {},
   "outputs": [],
   "source": [
    "from pathlib import Path \n",
    "\n",
    "data_in_path = list(Path(\"/home/amiguel/spectra_collection/ESPRESSO/proxima\").glob(\"*.fits\"))"
   ]
  },
  {
   "cell_type": "markdown",
   "metadata": {
    "collapsed": false,
    "pycharm": {
     "name": "#%% md\n"
    }
   },
   "source": [
    "### Selection and configuration of the Instrument\n",
    "\n",
    "After generating the paths of the observations, the next step is to configure the instrument that we are using. The current version of ASTRA has two limitations:\n",
    "\n",
    "1) We can't mix data from multiple instruments in the same *DataClass* object\n",
    "2) It is not able to automatically determine the instrument associated with a given file.\n",
    "\n",
    "This means that the user must manually define the instrument that is in use. Then, similarly to all other ASTRA objects, we can\n",
    "[configure](../../user_guide/configuration) multiple parameters to fine-tune the data pre-processing.\n",
    "\n"
   ]
  },
  {
   "cell_type": "code",
   "execution_count": 9,
   "metadata": {
    "collapsed": false,
    "pycharm": {
     "name": "#%%\n"
    }
   },
   "outputs": [],
   "source": [
    "from ASTRA.Instruments import ESPRESSO\n",
    "\n",
    "instrument = ESPRESSO\n",
    "\n",
    "inst_options = {\n",
    "    \"minimum_order_SNR\": 10,\n",
    "}"
   ]
  },
  {
   "cell_type": "markdown",
   "metadata": {
    "collapsed": false,
    "pycharm": {
     "name": "#%% md\n"
    }
   },
   "source": [
    "### Loading the data from disk\n",
    "\n",
    "There are two ways of loading the data from disk (that work in the same fashion):\n",
    "-  Load the data as an independent process (through *DataClassManager*)\n",
    "-  Load the data in the main python process (through *DataClass*)\n",
    "\n",
    "**Note:** Option A) makes use of python's proxy objects, serializing all communication. This means that we can use option A) to open all observation in one python core and share that data with multiple processes without re-opening data. "
   ]
  },
  {
   "cell_type": "code",
   "execution_count": 10,
   "metadata": {
    "collapsed": false,
    "pycharm": {
     "name": "#%%\n"
    }
   },
   "outputs": [
    {
     "name": "stderr",
     "output_type": "stream",
     "text": [
      "\u001b[32m2025-04-14 21:09:31.120\u001b[0m | \u001b[34m\u001b[1mDEBUG   \u001b[0m | \u001b[36mASTRA.utils.UserConfigs\u001b[0m:\u001b[36mreceive_user_inputs\u001b[0m:\u001b[36m216\u001b[0m - \u001b[34m\u001b[1mGenerating internal configs of  - \u001b[0m\n",
      "\u001b[32m2025-04-14 21:09:31.123\u001b[0m | \u001b[1mINFO    \u001b[0m | \u001b[36mASTRA.utils.UserConfigs\u001b[0m:\u001b[36mreceive_user_inputs\u001b[0m:\u001b[36m221\u001b[0m - \u001b[1mChecking for any parameter that will take default value\u001b[0m\n",
      "\u001b[32m2025-04-14 21:09:31.124\u001b[0m | \u001b[34m\u001b[1mDEBUG   \u001b[0m | \u001b[36mASTRA.utils.UserConfigs\u001b[0m:\u001b[36mreceive_user_inputs\u001b[0m:\u001b[36m228\u001b[0m - \u001b[34m\u001b[1mConfiguration <SAVE_DISK_SPACE> using the default value: DISK_SAVE_MODE.DISABLED\u001b[0m\n",
      "\u001b[32m2025-04-14 21:09:31.126\u001b[0m | \u001b[34m\u001b[1mDEBUG   \u001b[0m | \u001b[36mASTRA.utils.UserConfigs\u001b[0m:\u001b[36mreceive_user_inputs\u001b[0m:\u001b[36m228\u001b[0m - \u001b[34m\u001b[1mConfiguration <WORKING_MODE> using the default value: WORKING_MODE.ONE_SHOT\u001b[0m\n",
      "\u001b[32m2025-04-14 21:09:31.126\u001b[0m | \u001b[1mINFO    \u001b[0m | \u001b[36mASTRA.data_objects.DataClass\u001b[0m:\u001b[36m__init__\u001b[0m:\u001b[36m126\u001b[0m - \u001b[1mDataClass opening 3 files from a list/tuple\u001b[0m\n",
      "\u001b[32m2025-04-14 21:09:31.128\u001b[0m | \u001b[1mINFO    \u001b[0m | \u001b[36mASTRA.base_models.Frame\u001b[0m:\u001b[36m__init__\u001b[0m:\u001b[36m253\u001b[0m - \u001b[1mCreating frame from: /home/amiguel/spectra_collection/ESPRESSO/proxima/r.ESPRE.2019-07-03T01:43:39.634_S2D_A.fits\u001b[0m\n",
      "\u001b[32m2025-04-14 21:09:31.129\u001b[0m | \u001b[33m\u001b[1mWARNING \u001b[0m | \u001b[36mASTRA.Components.SpectrumComponent\u001b[0m:\u001b[36mregenerate_order_status\u001b[0m:\u001b[36m96\u001b[0m - \u001b[33m\u001b[1mResetting order status of Frame - ESPRESSO\u001b[0m\n",
      "\u001b[32m2025-04-14 21:09:31.147\u001b[0m | \u001b[34m\u001b[1mDEBUG   \u001b[0m | \u001b[36mASTRA.base_models.Frame\u001b[0m:\u001b[36massess_bad_orders\u001b[0m:\u001b[36m711\u001b[0m - \u001b[34m\u001b[1mRejecting spectral orders\u001b[0m\n",
      "\u001b[32m2025-04-14 21:09:31.148\u001b[0m | \u001b[1mINFO    \u001b[0m | \u001b[36mASTRA.base_models.Frame\u001b[0m:\u001b[36massess_bad_orders\u001b[0m:\u001b[36m741\u001b[0m - \u001b[1mFrame 9066568252996992604 rejected 48 orders for having SNR smaller than 10: 0-47\u001b[0m\n",
      "\u001b[32m2025-04-14 21:09:31.150\u001b[0m | \u001b[1mINFO    \u001b[0m | \u001b[36mASTRA.base_models.Frame\u001b[0m:\u001b[36m__init__\u001b[0m:\u001b[36m253\u001b[0m - \u001b[1mCreating frame from: /home/amiguel/spectra_collection/ESPRESSO/proxima/r.ESPRE.2019-07-14T02:07:49.063_S2D_A.fits\u001b[0m\n",
      "\u001b[32m2025-04-14 21:09:31.151\u001b[0m | \u001b[33m\u001b[1mWARNING \u001b[0m | \u001b[36mASTRA.Components.SpectrumComponent\u001b[0m:\u001b[36mregenerate_order_status\u001b[0m:\u001b[36m96\u001b[0m - \u001b[33m\u001b[1mResetting order status of Frame - ESPRESSO\u001b[0m\n",
      "\u001b[32m2025-04-14 21:09:31.167\u001b[0m | \u001b[34m\u001b[1mDEBUG   \u001b[0m | \u001b[36mASTRA.base_models.Frame\u001b[0m:\u001b[36massess_bad_orders\u001b[0m:\u001b[36m711\u001b[0m - \u001b[34m\u001b[1mRejecting spectral orders\u001b[0m\n",
      "\u001b[32m2025-04-14 21:09:31.170\u001b[0m | \u001b[1mINFO    \u001b[0m | \u001b[36mASTRA.base_models.Frame\u001b[0m:\u001b[36massess_bad_orders\u001b[0m:\u001b[36m741\u001b[0m - \u001b[1mFrame -2928113502234045974 rejected 38 orders for having SNR smaller than 10: 0-37\u001b[0m\n",
      "\u001b[32m2025-04-14 21:09:31.171\u001b[0m | \u001b[1mINFO    \u001b[0m | \u001b[36mASTRA.base_models.Frame\u001b[0m:\u001b[36m__init__\u001b[0m:\u001b[36m253\u001b[0m - \u001b[1mCreating frame from: /home/amiguel/spectra_collection/ESPRESSO/proxima/r.ESPRE.2019-07-20T01:43:40.032_S2D_A.fits\u001b[0m\n",
      "\u001b[32m2025-04-14 21:09:31.173\u001b[0m | \u001b[33m\u001b[1mWARNING \u001b[0m | \u001b[36mASTRA.Components.SpectrumComponent\u001b[0m:\u001b[36mregenerate_order_status\u001b[0m:\u001b[36m96\u001b[0m - \u001b[33m\u001b[1mResetting order status of Frame - ESPRESSO\u001b[0m\n",
      "\u001b[32m2025-04-14 21:09:31.190\u001b[0m | \u001b[34m\u001b[1mDEBUG   \u001b[0m | \u001b[36mASTRA.base_models.Frame\u001b[0m:\u001b[36massess_bad_orders\u001b[0m:\u001b[36m711\u001b[0m - \u001b[34m\u001b[1mRejecting spectral orders\u001b[0m\n",
      "\u001b[32m2025-04-14 21:09:31.193\u001b[0m | \u001b[1mINFO    \u001b[0m | \u001b[36mASTRA.base_models.Frame\u001b[0m:\u001b[36massess_bad_orders\u001b[0m:\u001b[36m741\u001b[0m - \u001b[1mFrame 8549670138794176738 rejected 38 orders for having SNR smaller than 10: 0-37\u001b[0m\n",
      "\u001b[32m2025-04-14 21:09:31.195\u001b[0m | \u001b[34m\u001b[1mDEBUG   \u001b[0m | \u001b[36mASTRA.data_objects.DataClass\u001b[0m:\u001b[36m__init__\u001b[0m:\u001b[36m154\u001b[0m - \u001b[34m\u001b[1mSelected 3 observations from disk\u001b[0m\n",
      "\u001b[32m2025-04-14 21:09:31.196\u001b[0m | \u001b[1mINFO    \u001b[0m | \u001b[36mASTRA.data_objects.DataClass\u001b[0m:\u001b[36m_collect_MetaData\u001b[0m:\u001b[36m369\u001b[0m - \u001b[1mCollecting MetaData from the observations\u001b[0m\n",
      "\u001b[32m2025-04-14 21:09:31.197\u001b[0m | \u001b[33m\u001b[1mWARNING \u001b[0m | \u001b[36mASTRA.data_objects.Target\u001b[0m:\u001b[36m__init__\u001b[0m:\u001b[36m73\u001b[0m - \u001b[33m\u001b[1mTarget dictionary not found in <None>\u001b[0m\n",
      "\u001b[32m2025-04-14 21:09:31.198\u001b[0m | \u001b[34m\u001b[1mDEBUG   \u001b[0m | \u001b[36mASTRA.data_objects.Target\u001b[0m:\u001b[36mclean_targ_list\u001b[0m:\u001b[36m98\u001b[0m - \u001b[34m\u001b[1mParsing through loaded OBJECTs\u001b[0m\n",
      "\u001b[32m2025-04-14 21:09:31.199\u001b[0m | \u001b[1mINFO    \u001b[0m | \u001b[36mASTRA.data_objects.Target\u001b[0m:\u001b[36m__init__\u001b[0m:\u001b[36m92\u001b[0m - \u001b[1mValidated target to be V V645 Cen\u001b[0m\n",
      "\u001b[32m2025-04-14 21:09:31.199\u001b[0m | \u001b[1mINFO    \u001b[0m | \u001b[36mASTRA.data_objects.DataClass\u001b[0m:\u001b[36mshow_loadedData_table\u001b[0m:\u001b[36m885\u001b[0m - \u001b[1m--------------------------------------------------------------------\n",
      "--------------------------------------------------------------------\n",
      "  subInstrument    Total OBS    Valid OBS [warnings]   INVALID OBS   \n",
      "--------------------------------------------------------------------\n",
      "    ESPRESSO18         0               0 [0]                0        \n",
      "    ESPRESSO19         3               3 [0]                0        \n",
      "      Total            3               3 [0]                0        \n",
      "--------------------------------------------------------------------\u001b[0m\n",
      "\u001b[32m2025-04-14 21:09:31.200\u001b[0m | \u001b[1mINFO    \u001b[0m | \u001b[36mASTRA.data_objects.DataClass\u001b[0m:\u001b[36mload_instrument_extra_information\u001b[0m:\u001b[36m894\u001b[0m - \u001b[1mChecking if the instrument has extra data to load\u001b[0m\n",
      "\u001b[32m2025-04-14 21:09:31.201\u001b[0m | \u001b[1mINFO    \u001b[0m | \u001b[36mASTRA.data_objects.DataClass\u001b[0m:\u001b[36mload_instrument_extra_information\u001b[0m:\u001b[36m901\u001b[0m - \u001b[1mCurrent instrument does not need to load anything from the outside\u001b[0m\n"
     ]
    }
   ],
   "source": [
    "from ASTRA.data_objects import DataClassManager\n",
    "from ASTRA.data_objects.DataClass import DataClass\n",
    "\n",
    "load_independent_process = False\n",
    "\n",
    "if load_independent_process:  # Option A)\n",
    "    manager = DataClassManager()\n",
    "    manager.start()\n",
    "    \n",
    "    # This makes available the same functions as the usual DataClass object\n",
    "    data: DataClass = manager.DataClass(data_in_path, instrument=ESPRESSO, instrument_options=inst_options, storage_path=\"\")\n",
    "else:  # Option B)\n",
    "    data = DataClass(data_in_path, instrument=instrument, instrument_options=inst_options, storage_path=\"\")"
   ]
  },
  {
   "cell_type": "markdown",
   "metadata": {
    "collapsed": false,
    "pycharm": {
     "name": "#%% md\n"
    }
   },
   "source": []
  },
  {
   "cell_type": "markdown",
   "metadata": {
    "collapsed": false,
    "pycharm": {
     "name": "#%% md\n"
    }
   },
   "source": [
    "## Removing activity indicators (Optional)\n",
    "\n",
    "- ASTRA allows the rejection of specific wavelength intervals, that are known to be more sensitive to activity.\n",
    "- By default, we remove lines that are typically used as activity indicators (on the optical domain, NIR is not yet included)\n",
    "- This interface can also be used to manuall remove other wavelength regions, as long as it is configured to do so\n",
    "\n"
   ]
  },
  {
   "cell_type": "code",
   "execution_count": 5,
   "metadata": {
    "collapsed": false,
    "pycharm": {
     "name": "#%%\n"
    }
   },
   "outputs": [],
   "source": [
    "from ASTRA.Quality_Control.activity_indicators import Indicators\n",
    "\n",
    "inds = Indicators()"
   ]
  },
  {
   "cell_type": "markdown",
   "metadata": {
    "collapsed": false,
    "pycharm": {
     "name": "#%% md\n"
    }
   },
   "source": [
    "### Removing extra regions\n",
    "\n",
    "- We must define a unique name (i.e. no repetitions, even among the default \"features\"\n",
    "- We must define a region that will be removed from **all** observations that have been loaded from disk\n",
    "- BY default we assume that the region is defined in air. Change to vacuum by passing vacuum_wavelength=True"
   ]
  },
  {
   "cell_type": "code",
   "execution_count": 6,
   "metadata": {
    "collapsed": false,
    "pycharm": {
     "name": "#%%\n"
    }
   },
   "outputs": [],
   "source": [
    "inds.add_feature(name=\"feature_1\", region=[5000, 5500], vacuum_wavelengths=True)"
   ]
  },
  {
   "cell_type": "markdown",
   "metadata": {
    "collapsed": false,
    "pycharm": {
     "name": "#%% md\n"
    }
   },
   "source": [
    "### Applying the selected region\n",
    "\n",
    "Lastly, we have to ingest this object in our *DataClass* object, so that the rejected wavelengths are included in the spectral mask."
   ]
  },
  {
   "cell_type": "code",
   "execution_count": 7,
   "metadata": {
    "collapsed": false,
    "pycharm": {
     "name": "#%%\n"
    }
   },
   "outputs": [
    {
     "name": "stderr",
     "output_type": "stream",
     "text": [
      "\u001b[32m2025-04-14 17:16:32.407\u001b[0m | \u001b[1mINFO    \u001b[0m | \u001b[36mASTRA.data_objects.DataClass\u001b[0m:\u001b[36mremove_activity_lines\u001b[0m:\u001b[36m216\u001b[0m - \u001b[1mComputing activity windows for each RV measurements\u001b[0m\n"
     ]
    }
   ],
   "source": [
    "data.remove_activity_lines(inds)"
   ]
  }
 ],
 "metadata": {
  "kernelspec": {
   "display_name": ".venv",
   "language": "python",
   "name": "python3"
  },
  "language_info": {
   "codemirror_mode": {
    "name": "ipython",
    "version": 3
   },
   "file_extension": ".py",
   "mimetype": "text/x-python",
   "name": "python",
   "nbconvert_exporter": "python",
   "pygments_lexer": "ipython3",
   "version": "3.12.8"
  }
 },
 "nbformat": 4,
 "nbformat_minor": 0
}
