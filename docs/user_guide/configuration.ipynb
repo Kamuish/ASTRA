{
 "cells": [
  {
   "cell_type": "markdown",
   "metadata": {},
   "source": [
    "# Configuration of ASTRA objects"
   ]
  },
  {
   "cell_type": "markdown",
   "metadata": {},
   "source": [
    "Astra objects have a wide number of configurable parameters, with most of them being optional (with sensible values as the default ones). Furthermore, every configurable value that the user provides will pass through a validation layer, to ensure proper initialization.\n",
    "\n",
    "The easiest way to find all parameters, alongside their description is through a method that exist in all ASTRA objects:"
   ]
  },
  {
   "cell_type": "code",
   "execution_count": 1,
   "metadata": {},
   "outputs": [
    {
     "name": "stdout",
     "output_type": "stream",
     "text": [
      "Configurations:\n",
      "\n",
      "Name:: SAVE_DISK_SPACE\n",
      "\tDescription:: Save disk space in the outputs if different than None.\n",
      "\tMandatory:: False\n",
      "\tDefault value:: DISK_SAVE_MODE.DISABLED\n",
      "\tConstraints:: Value from list <<enum 'DISK_SAVE_MODE'>>\n",
      " \n",
      "Name:: WORKING_MODE\n",
      "\tDescription:: How to store the output files. If one-shot, overwrites all files, otherwise updates products\n",
      "\tMandatory:: False\n",
      "\tDefault value:: WORKING_MODE.ONE_SHOT\n",
      "\tConstraints:: Value from list <<enum 'WORKING_MODE'>>\n",
      " \n",
      "Name:: CREATION_MODE\n",
      "\tDescription:: None\n",
      "\tMandatory:: False\n",
      "\tDefault value:: STELLAR_CREATION_MODE.Sum\n",
      "\tConstraints:: Value from list <<enum 'STELLAR_CREATION_MODE'>>\n",
      " \n",
      "Name:: ALIGNEMENT_RV_SOURCE\n",
      "\tDescription:: None\n",
      "\tMandatory:: False\n",
      "\tDefault value:: DRS\n",
      "\tConstraints:: Value from list <['DRS', 'SBART']>\n",
      " \n",
      "Name:: PREVIOUS_SBART_PATH\n",
      "\tDescription:: None\n",
      "\tMandatory:: False\n",
      "\tDefault value:: \n",
      "\tConstraints:: Value from dtype <(<class 'str'>, <class 'pathlib.Path'>)>\n",
      " \n",
      "Name:: USE_MERGED_RVS\n",
      "\tDescription:: None\n",
      "\tMandatory:: False\n",
      "\tDefault value:: False\n",
      "\tConstraints:: Value from dtype <(<class 'bool'>,)>\n",
      " \n",
      "\n"
     ]
    }
   ],
   "source": [
    "from ASTRA.template_creation.StellarModel import StellarModel\n",
    "\n",
    "StellarModel.config_help()"
   ]
  },
  {
   "cell_type": "markdown",
   "metadata": {},
   "source": [
    "Then, the configuration of the ASTRA objects will be done through a argument called *user_configs* at the time of instantiation. If the keyword is either marked as *Mandatory* or the provided value does not meet the constraint, then an Exception will be raised. \n",
    "\n",
    "\n",
    "All enum items are stored in the following sub-package:\n"
   ]
  },
  {
   "cell_type": "code",
   "execution_count": 4,
   "metadata": {},
   "outputs": [
    {
     "data": {
      "text/plain": [
       "['DISK_SAVE_MODE',\n",
       " 'Enum',\n",
       " 'FLUX_SMOOTH_CONFIGS',\n",
       " 'FLUX_SMOOTH_ORDER',\n",
       " 'INTERPOLATION_ERR_PROP',\n",
       " 'SPECTRA_INTERPOL_MODE',\n",
       " 'SPLINE_INTERPOL_MODE',\n",
       " 'STELLAR_CREATION_MODE',\n",
       " 'TELLURIC_APPLICATION_MODE',\n",
       " 'TELLURIC_CREATION_MODE',\n",
       " 'TELLURIC_EXTENSION',\n",
       " 'WORKING_MODE',\n",
       " '__builtins__',\n",
       " '__cached__',\n",
       " '__doc__',\n",
       " '__file__',\n",
       " '__loader__',\n",
       " '__name__',\n",
       " '__package__',\n",
       " '__spec__']"
      ]
     },
     "execution_count": 4,
     "metadata": {},
     "output_type": "execute_result"
    }
   ],
   "source": [
    "from ASTRA.utils import choices\n",
    "\n",
    "dir(choices)"
   ]
  },
  {
   "cell_type": "markdown",
   "metadata": {},
   "source": [
    "After instantiation, we can still update any of ASTRA configurations, through the *update_user_configs* method. Once again, the new config values will be parsed through the validation layer to ensure compliance with the parameter guidelines."
   ]
  },
  {
   "cell_type": "code",
   "execution_count": 10,
   "metadata": {},
   "outputs": [
    {
     "name": "stderr",
     "output_type": "stream",
     "text": [
      "\u001b[32m2025-04-14 22:35:09.082\u001b[0m | \u001b[1mINFO    \u001b[0m | \u001b[36mASTRA.base_models.Frame\u001b[0m:\u001b[36m__init__\u001b[0m:\u001b[36m253\u001b[0m - \u001b[1mCreating frame from: /home/amiguel/spectra_collection/ESPRESSO/proxima/r.ESPRE.2019-07-03T01:43:39.634_S2D_A.fits\u001b[0m\n",
      "\u001b[32m2025-04-14 22:35:09.084\u001b[0m | \u001b[33m\u001b[1mWARNING \u001b[0m | \u001b[36mASTRA.Components.SpectrumComponent\u001b[0m:\u001b[36mregenerate_order_status\u001b[0m:\u001b[36m96\u001b[0m - \u001b[33m\u001b[1mResetting order status of Frame - ESPRESSO\u001b[0m\n",
      "\u001b[32m2025-04-14 22:35:09.103\u001b[0m | \u001b[34m\u001b[1mDEBUG   \u001b[0m | \u001b[36mASTRA.base_models.Frame\u001b[0m:\u001b[36massess_bad_orders\u001b[0m:\u001b[36m711\u001b[0m - \u001b[34m\u001b[1mRejecting spectral orders\u001b[0m\n",
      "\u001b[32m2025-04-14 22:35:09.106\u001b[0m | \u001b[1mINFO    \u001b[0m | \u001b[36mASTRA.base_models.Frame\u001b[0m:\u001b[36massess_bad_orders\u001b[0m:\u001b[36m741\u001b[0m - \u001b[1mFrame None rejected 37 orders for having SNR smaller than 5: 0-36\u001b[0m\n",
      "\u001b[32m2025-04-14 22:35:09.108\u001b[0m | \u001b[41m\u001b[1mCRITICAL\u001b[0m | \u001b[36mASTRA.utils.UserConfigs\u001b[0m:\u001b[36mupdate_configs_with_values\u001b[0m:\u001b[36m191\u001b[0m - \u001b[41m\u001b[1mUser-given parameter apply_FluxCorr does not meet the constraints\u001b[0m\n"
     ]
    },
    {
     "name": "stdout",
     "output_type": "stream",
     "text": [
      "Update ASTRA config value to True\n",
      "Update ASTRA config value to False\n",
      "Update ASTRA config value to None\n"
     ]
    },
    {
     "ename": "InternalError",
     "evalue": "",
     "output_type": "error",
     "traceback": [
      "\u001b[31m---------------------------------------------------------------------------\u001b[39m",
      "\u001b[31mInvalidConfiguration\u001b[39m                      Traceback (most recent call last)",
      "\u001b[36mFile \u001b[39m\u001b[32m~/development/ASTRA/src/ASTRA/utils/UserConfigs.py:189\u001b[39m, in \u001b[36mInternalParameters.update_configs_with_values\u001b[39m\u001b[34m(self, user_configs)\u001b[39m\n\u001b[32m    188\u001b[39m \u001b[38;5;28;01mtry\u001b[39;00m:\n\u001b[32m--> \u001b[39m\u001b[32m189\u001b[39m     \u001b[43mparameter_def_information\u001b[49m\u001b[43m.\u001b[49m\u001b[43mapply_constraints_to_value\u001b[49m\u001b[43m(\u001b[49m\u001b[43mkey\u001b[49m\u001b[43m,\u001b[49m\u001b[43m \u001b[49m\u001b[43mvalue\u001b[49m\u001b[43m)\u001b[49m\n\u001b[32m    190\u001b[39m \u001b[38;5;28;01mexcept\u001b[39;00m InvalidConfiguration \u001b[38;5;28;01mas\u001b[39;00m exc:\n",
      "\u001b[36mFile \u001b[39m\u001b[32m~/development/ASTRA/src/ASTRA/utils/UserConfigs.py:68\u001b[39m, in \u001b[36mUserParam.apply_constraints_to_value\u001b[39m\u001b[34m(self, param_name, value)\u001b[39m\n\u001b[32m     61\u001b[39m \u001b[38;5;250m\u001b[39m\u001b[33;03m\"\"\"Apply the constraints of this parameter to a given value.\u001b[39;00m\n\u001b[32m     62\u001b[39m \n\u001b[32m     63\u001b[39m \u001b[33;03mArgs:\u001b[39;00m\n\u001b[32m   (...)\u001b[39m\u001b[32m     66\u001b[39m \n\u001b[32m     67\u001b[39m \u001b[33;03m\"\"\"\u001b[39;00m\n\u001b[32m---> \u001b[39m\u001b[32m68\u001b[39m \u001b[38;5;28;43mself\u001b[39;49m\u001b[43m.\u001b[49m\u001b[43m_valueConstraint\u001b[49m\u001b[43m.\u001b[49m\u001b[43mcheck_if_value_meets_constraint\u001b[49m\u001b[43m(\u001b[49m\u001b[43mvalue\u001b[49m\u001b[43m)\u001b[49m\n",
      "\u001b[36mFile \u001b[39m\u001b[32m~/development/ASTRA/src/ASTRA/utils/parameter_validators.py:67\u001b[39m, in \u001b[36mConstraint.check_if_value_meets_constraint\u001b[39m\u001b[34m(self, value)\u001b[39m\n\u001b[32m     66\u001b[39m \u001b[38;5;28;01mfor\u001b[39;00m evaluator \u001b[38;5;129;01min\u001b[39;00m \u001b[38;5;28mself\u001b[39m._constraint_list:\n\u001b[32m---> \u001b[39m\u001b[32m67\u001b[39m     \u001b[43mevaluator\u001b[49m\u001b[43m(\u001b[49m\u001b[43mvalue\u001b[49m\u001b[43m)\u001b[49m\n",
      "\u001b[36mFile \u001b[39m\u001b[32m~/development/ASTRA/src/ASTRA/utils/parameter_validators.py:135\u001b[39m, in \u001b[36mValueFromDtype._evaluate\u001b[39m\u001b[34m(self, value)\u001b[39m\n\u001b[32m    134\u001b[39m msg = \u001b[33mf\u001b[39m\u001b[33m\"\u001b[39m\u001b[33mConfig value (\u001b[39m\u001b[38;5;132;01m{\u001b[39;00mvalue\u001b[38;5;132;01m}\u001b[39;00m\u001b[33m) not from\u001b[39m\u001b[33m\"\u001b[39m \u001b[33mf\u001b[39m\u001b[33m\"\u001b[39m\u001b[33mthe valid dtypes: \u001b[39m\u001b[38;5;132;01m{\u001b[39;00m\u001b[38;5;28mtype\u001b[39m(value)\u001b[38;5;132;01m}\u001b[39;00m\u001b[33m vs \u001b[39m\u001b[38;5;132;01m{\u001b[39;00m\u001b[38;5;28mself\u001b[39m.valid_dtypes\u001b[38;5;132;01m}\u001b[39;00m\u001b[33m\"\u001b[39m\n\u001b[32m--> \u001b[39m\u001b[32m135\u001b[39m \u001b[38;5;28;01mraise\u001b[39;00m InvalidConfiguration(\n\u001b[32m    136\u001b[39m     msg,\n\u001b[32m    137\u001b[39m )\n",
      "\u001b[31mInvalidConfiguration\u001b[39m: Config value (None) not fromthe valid dtypes: <class 'NoneType'> vs (<class 'bool'>,)",
      "\nThe above exception was the direct cause of the following exception:\n",
      "\u001b[31mInternalError\u001b[39m                             Traceback (most recent call last)",
      "\u001b[36mCell\u001b[39m\u001b[36m \u001b[39m\u001b[32mIn[10]\u001b[39m\u001b[32m, line 10\u001b[39m\n\u001b[32m      8\u001b[39m \u001b[38;5;28;01mfor\u001b[39;00m fluxcorr \u001b[38;5;129;01min\u001b[39;00m [\u001b[38;5;28;01mTrue\u001b[39;00m, \u001b[38;5;28;01mFalse\u001b[39;00m, \u001b[38;5;28;01mNone\u001b[39;00m]:\n\u001b[32m      9\u001b[39m     \u001b[38;5;28mprint\u001b[39m(\u001b[33m\"\u001b[39m\u001b[33mUpdate ASTRA config value to\u001b[39m\u001b[33m\"\u001b[39m, fluxcorr)\n\u001b[32m---> \u001b[39m\u001b[32m10\u001b[39m     \u001b[43mframe\u001b[49m\u001b[43m.\u001b[49m\u001b[43mupdate_user_configs\u001b[49m\u001b[43m(\u001b[49m\u001b[43m{\u001b[49m\u001b[33;43m\"\u001b[39;49m\u001b[33;43mapply_FluxCorr\u001b[39;49m\u001b[33;43m\"\u001b[39;49m\u001b[43m:\u001b[49m\u001b[43m \u001b[49m\u001b[43mfluxcorr\u001b[49m\u001b[43m}\u001b[49m\u001b[43m)\u001b[49m\n",
      "\u001b[36mFile \u001b[39m\u001b[32m~/development/ASTRA/src/ASTRA/Components/Modelling.py:156\u001b[39m, in \u001b[36mSpectral_Modelling.update_user_configs\u001b[39m\u001b[34m(self, new_configs)\u001b[39m\n\u001b[32m    154\u001b[39m \u001b[38;5;28;01mdef\u001b[39;00m\u001b[38;5;250m \u001b[39m\u001b[34mupdate_user_configs\u001b[39m(\u001b[38;5;28mself\u001b[39m, new_configs: \u001b[38;5;28mdict\u001b[39m[\u001b[38;5;28mstr\u001b[39m, Any]) -> \u001b[38;5;28;01mNone\u001b[39;00m:\n\u001b[32m    155\u001b[39m \u001b[38;5;250m    \u001b[39m\u001b[33;03m\"\"\"Propagates update of configs to the interpolation interface.\"\"\"\u001b[39;00m\n\u001b[32m--> \u001b[39m\u001b[32m156\u001b[39m     \u001b[38;5;28;43msuper\u001b[39;49m\u001b[43m(\u001b[49m\u001b[43m)\u001b[49m\u001b[43m.\u001b[49m\u001b[43mupdate_user_configs\u001b[49m\u001b[43m(\u001b[49m\u001b[43mnew_configs\u001b[49m\u001b[43m)\u001b[49m\n\u001b[32m    157\u001b[39m     \u001b[38;5;28mself\u001b[39m.interpolation_interface.set_interpolation_properties(new_configs)\n",
      "\u001b[36mFile \u001b[39m\u001b[32m~/development/ASTRA/src/ASTRA/utils/BASE.py:88\u001b[39m, in \u001b[36mBASE.update_user_configs\u001b[39m\u001b[34m(self, new_configs)\u001b[39m\n\u001b[32m     86\u001b[39m \u001b[38;5;28;01mdef\u001b[39;00m\u001b[38;5;250m \u001b[39m\u001b[34mupdate_user_configs\u001b[39m(\u001b[38;5;28mself\u001b[39m, new_configs: \u001b[38;5;28mdict\u001b[39m[\u001b[38;5;28mstr\u001b[39m, Any]) -> \u001b[38;5;28;01mNone\u001b[39;00m:\n\u001b[32m     87\u001b[39m \u001b[38;5;250m    \u001b[39m\u001b[33;03m\"\"\"Update the current configurations with new values.\"\"\"\u001b[39;00m\n\u001b[32m---> \u001b[39m\u001b[32m88\u001b[39m     \u001b[38;5;28;43mself\u001b[39;49m\u001b[43m.\u001b[49m\u001b[43m_internal_configs\u001b[49m\u001b[43m.\u001b[49m\u001b[43mupdate_configs_with_values\u001b[49m\u001b[43m(\u001b[49m\u001b[43mnew_configs\u001b[49m\u001b[43m)\u001b[49m\n",
      "\u001b[36mFile \u001b[39m\u001b[32m~/development/ASTRA/src/ASTRA/utils/UserConfigs.py:192\u001b[39m, in \u001b[36mInternalParameters.update_configs_with_values\u001b[39m\u001b[34m(self, user_configs)\u001b[39m\n\u001b[32m    190\u001b[39m \u001b[38;5;28;01mexcept\u001b[39;00m InvalidConfiguration \u001b[38;5;28;01mas\u001b[39;00m exc:\n\u001b[32m    191\u001b[39m     logger.critical(\u001b[33m\"\u001b[39m\u001b[33mUser-given parameter \u001b[39m\u001b[38;5;132;01m{}\u001b[39;00m\u001b[33m does not meet the constraints\u001b[39m\u001b[33m\"\u001b[39m, key)\n\u001b[32m--> \u001b[39m\u001b[32m192\u001b[39m     \u001b[38;5;28;01mraise\u001b[39;00m InternalError \u001b[38;5;28;01mfrom\u001b[39;00m\u001b[38;5;250m \u001b[39m\u001b[34;01mexc\u001b[39;00m\n\u001b[32m    194\u001b[39m \u001b[38;5;28mself\u001b[39m._user_configs[key] = value\n\u001b[32m    196\u001b[39m \u001b[38;5;28;01mif\u001b[39;00m \u001b[38;5;129;01mnot\u001b[39;00m \u001b[38;5;28mself\u001b[39m.no_logs:\n",
      "\u001b[31mInternalError\u001b[39m: "
     ]
    }
   ],
   "source": [
    "from ASTRA.Instruments import ESPRESSO\n",
    "\n",
    "frame = ESPRESSO(file_path=\"/home/amiguel/spectra_collection/ESPRESSO/proxima/r.ESPRE.2019-07-03T01:43:39.634_S2D_A.fits\",\n",
    "                 user_configs={}\n",
    "                 )\n",
    "frame.generate_root_path(\"tmp\")\n",
    "\n",
    "for fluxcorr in [True, \n",
    "                 False,\n",
    "                 None # It will fail, as the apply_FluxCorr configuration only accepts boolean values\n",
    "                 ]:\n",
    "    print(\"Update ASTRA config value to\", fluxcorr)\n",
    "    frame.update_user_configs({\"apply_FluxCorr\": fluxcorr})"
   ]
  }
 ],
 "metadata": {
  "kernelspec": {
   "display_name": ".venv",
   "language": "python",
   "name": "python3"
  },
  "language_info": {
   "codemirror_mode": {
    "name": "ipython",
    "version": 3
   },
   "file_extension": ".py",
   "mimetype": "text/x-python",
   "name": "python",
   "nbconvert_exporter": "python",
   "pygments_lexer": "ipython3",
   "version": "3.12.8"
  }
 },
 "nbformat": 4,
 "nbformat_minor": 2
}
