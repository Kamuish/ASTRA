{
 "cells": [
  {
   "cell_type": "markdown",
   "metadata": {},
   "source": [
    "# Configuration of ASTRA objects"
   ]
  },
  {
   "cell_type": "markdown",
   "metadata": {},
   "source": [
    "Astra objects have a wide number of configurable parameters, with most of them being optional (with sensible values as the default ones). Furthermore, every configurable value that the user provides will pass through a validation layer, to ensure proper initialization.\n",
    "\n",
    "The easiest way to find all parameters, alongside their description is through a method that exist in all ASTRA objects:"
   ]
  },
  {
   "cell_type": "code",
   "execution_count": 1,
   "metadata": {},
   "outputs": [
    {
     "name": "stdout",
     "output_type": "stream",
     "text": [
      "Configurations:\n",
      "\n",
      "Name:: SAVE_DISK_SPACE\n",
      "\tDescription:: Save disk space in the outputs if different than None.\n",
      "\tMandatory:: False\n",
      "\tDefault value:: DISK_SAVE_MODE.DISABLED\n",
      "\tConstraints:: Value from list <<enum 'DISK_SAVE_MODE'>>\n",
      " \n",
      "Name:: WORKING_MODE\n",
      "\tDescription:: How to store the output files. If one-shot, overwrites all files, otherwise updates products\n",
      "\tMandatory:: False\n",
      "\tDefault value:: WORKING_MODE.ONE_SHOT\n",
      "\tConstraints:: Value from list <<enum 'WORKING_MODE'>>\n",
      " \n",
      "Name:: CREATION_MODE\n",
      "\tDescription:: None\n",
      "\tMandatory:: False\n",
      "\tDefault value:: STELLAR_CREATION_MODE.Sum\n",
      "\tConstraints:: Value from list <<enum 'STELLAR_CREATION_MODE'>>\n",
      " \n",
      "Name:: ALIGNEMENT_RV_SOURCE\n",
      "\tDescription:: None\n",
      "\tMandatory:: False\n",
      "\tDefault value:: DRS\n",
      "\tConstraints:: Value from list <['DRS', 'SBART']>\n",
      " \n",
      "Name:: PREVIOUS_SBART_PATH\n",
      "\tDescription:: None\n",
      "\tMandatory:: False\n",
      "\tDefault value:: \n",
      "\tConstraints:: Value from dtype <(<class 'str'>, <class 'pathlib.Path'>)>\n",
      " \n",
      "Name:: USE_MERGED_RVS\n",
      "\tDescription:: None\n",
      "\tMandatory:: False\n",
      "\tDefault value:: False\n",
      "\tConstraints:: Value from dtype <(<class 'bool'>,)>\n",
      " \n",
      "\n"
     ]
    }
   ],
   "source": [
    "from ASTRA.template_creation.StellarModel import StellarModel\n",
    "\n",
    "StellarModel.config_help()"
   ]
  },
  {
   "cell_type": "markdown",
   "metadata": {},
   "source": [
    "Then, the configuration of the ASTRA objects will be done through a argument called *user_configs* at the time of instantiation. If the keyword is either marked as *Mandatory* or the provided value does not meet the constraint, then an Exception will be raised. \n",
    "\n",
    "\n",
    "All enum items are stored in the following sub-package:\n"
   ]
  },
  {
   "cell_type": "code",
   "execution_count": 4,
   "metadata": {},
   "outputs": [
    {
     "data": {
      "text/plain": [
       "['DISK_SAVE_MODE',\n",
       " 'Enum',\n",
       " 'FLUX_SMOOTH_CONFIGS',\n",
       " 'FLUX_SMOOTH_ORDER',\n",
       " 'INTERPOLATION_ERR_PROP',\n",
       " 'SPECTRA_INTERPOL_MODE',\n",
       " 'SPLINE_INTERPOL_MODE',\n",
       " 'STELLAR_CREATION_MODE',\n",
       " 'TELLURIC_APPLICATION_MODE',\n",
       " 'TELLURIC_CREATION_MODE',\n",
       " 'TELLURIC_EXTENSION',\n",
       " 'WORKING_MODE',\n",
       " '__builtins__',\n",
       " '__cached__',\n",
       " '__doc__',\n",
       " '__file__',\n",
       " '__loader__',\n",
       " '__name__',\n",
       " '__package__',\n",
       " '__spec__']"
      ]
     },
     "execution_count": 4,
     "metadata": {},
     "output_type": "execute_result"
    }
   ],
   "source": [
    "from ASTRA.utils import choices\n",
    "\n",
    "dir(choices)"
   ]
  }
 ],
 "metadata": {
  "kernelspec": {
   "display_name": ".venv",
   "language": "python",
   "name": "python3"
  },
  "language_info": {
   "codemirror_mode": {
    "name": "ipython",
    "version": 3
   },
   "file_extension": ".py",
   "mimetype": "text/x-python",
   "name": "python",
   "nbconvert_exporter": "python",
   "pygments_lexer": "ipython3",
   "version": "3.12.8"
  }
 },
 "nbformat": 4,
 "nbformat_minor": 2
}
